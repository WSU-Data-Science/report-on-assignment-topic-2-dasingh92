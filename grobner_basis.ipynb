{
 "cells": [
  {
   "cell_type": "markdown",
   "id": "fixed-generation",
   "metadata": {},
   "source": [
    "# Buchberger algorithm for Gröbner basis - An analysis of it's implementations, complexity and applications"
   ]
  },
  {
   "cell_type": "markdown",
   "id": "younger-banks",
   "metadata": {},
   "source": [
    "## Complexity of a Gröbner basis calculation using Buchberger algorithm"
   ]
  },
  {
   "cell_type": "markdown",
   "id": "soviet-monitoring",
   "metadata": {},
   "source": [
    "The estimation of computational complexity of the Buchberger algorithm is not a trivial task because the number of choices may drastically change which directly affects the computation time. These choices may depend on the number of variables and within a given number of variables on the ordering of the leading terms. Hence, we resort to finding an upper bound on the degree of the generated Gröbner Basis, $G$.\n",
    "\n",
    "It has been <a id=\"ref-1\" href=\"#cite-DUBE_1990\">(Dubé,1990)</a> proved that the degree of all polynomials in $G$ of an input polynomial $B$ are bounded by doubly exponential in the number of variables but polynomial in terms of degree. , i.e.,\n",
    "\n",
    "\\begin{equation}\n",
    "2{\\bigg ( \\frac{d^2}{2} + d \\bigg)}^{2^{n-2}}\n",
    "\\end{equation}\n",
    "\n",
    "where $d$ is the maximal total degree of the input polynomials and $n$ is the number of variables. This allows us to theoretically, use *linear algebra* over the *vector spaces* of the polynomials of degree bounded by this value, to obtain an algorithmic complexity, $d^{2^{n + o(1)}}$.\n",
    "\n",
    "On the other hand it has been shown by <a id=\"ref-2\" href=\"#cite-MAYR_1982\">(Mayr and Meyer, 1982)</a> that some examples Gröbner Basis contain elements of the degree, \n",
    "\n",
    "$$ d^{2^{\\Omega(n)}}$$ \n",
    "\n",
    "The above mentioned complexity is optimal, although quite rare. \n",
    "\n",
    "These estimates on the size of the output directly imply estimates on the memory requirements and the runtime of the Buchberger algorithm. Although they only describe the complexity of the problem rather than the complexity of a particular algorithm, in the sense that no other (hypothetical) algorithm for computing Gröbner bases can possibly be faster in the worst case.\n",
    "\n",
    "Despite these unavoidable worst case behaviour, in most cases of practical relevance it is possible to obtain Gröbner bases in a reasonable time. The algorithm tends to perform far more efficiently on input coming from applications than in the worst case.\n",
    "\n",
    "Since Buchberger algorithm was first introduced <a id=\"ref-3\" href=\"#cite-BUCHBERGER_THESIS\">(Buchberger, 1965)</a> it has been improved for better efficiency and the latest variants [Faugère's F4] and [Faugère's F5 Algorithms]  are currently the most efficient in calculating Gröbner Basis and allow to compute routinely Gröbner bases consisting of several hundreds of polynomials, having each several hundreds of terms and coefficients of several hundreds of digits. "
   ]
  },
  {
   "cell_type": "markdown",
   "id": "brave-tomato",
   "metadata": {},
   "source": [
    "## Sensitivity of Buchberger algorithm"
   ]
  },
  {
   "cell_type": "markdown",
   "id": "demographic-audio",
   "metadata": {},
   "source": [
    "The Buchberger algorithm shows sensitivity to the following factors while generating a Gröbner Basis for a given polynomial:\n",
    "* The number of variables,\n",
    "* The degrees of the polynomial,\n",
    "* Ordering of the input polynomial, and\n",
    "* The size of the coefficients of the polynomial.\n",
    "\n",
    "In this section, we will show programmatically the sensitivity of Buchberger algorithm to each of the abovesaid factors and see how the algorithm reacts to changes for each given factor.\n",
    "\n",
    "### Sensitivity to number of variables\n",
    "We will first take a test case of $3$ variable polynomials. Our input polynomial $F = [F_1,F_2, F_3]$ where,\n",
    "\n",
    "\\begin{equation}\n",
    "F_1 = x^2 + y^2 + z^2 \\\\\n",
    " F_2 = 2x^2 - xy - z^2 \\\\\n",
    "F_3 = y^3-z^3\n",
    "\\end{equation}"
   ]
  },
  {
   "cell_type": "code",
   "execution_count": 95,
   "id": "palestinian-stone",
   "metadata": {},
   "outputs": [],
   "source": [
    "import sympy as sp\n",
    "import numpy as np\n",
    "import matplotlib.pyplot as plt\n",
    "from sympy.abc import x,y,z,a,b,c,p,q,r,t\n",
    "import time"
   ]
  },
  {
   "cell_type": "code",
   "execution_count": 71,
   "id": "detailed-homework",
   "metadata": {},
   "outputs": [
    {
     "name": "stdout",
     "output_type": "stream",
     "text": [
      "Finished calculating Gröbner Basis in: 0.004807 seconds\n",
      "GroebnerBasis([x**2 + y**2 + z**2, x*y + 2*y**2 + 3*z**2, 3*x*z**2 - 7*y*z**2 - 5*z**3, y**3 - z**3, 31*y**2*z**2 + 23*z**4, 31*y*z**3 - 4*z**4, z**5], x, y, z, domain='ZZ', order='lex')\n"
     ]
    }
   ],
   "source": [
    "# F3 = x**3*y**3 - 3*x**2*y\n",
    "# [x**3*z - 2*x*y*z**2, x**2*y*z**3 - 2*y**2*z + x, x**3*y**3*z**3 - 3*x**2*y*5*z]\n",
    "# [x**3 - 2*x*y, x**2*y - 2*y**2 + x]\n",
    "# [t**2+ x**2 + y**2+ z**2,t**2 + 2*x**2 - x*y - z**2, t + y**3 - z**3]\n",
    "variables = [x,y,z,a,b,c,p,q,r,t]\n",
    "times = []\n",
    "\n",
    "F = [F1, F2, F3] = [x**2 + y**2+ z**2, 2*x**2 - x*y - z**2, y**3 - z**3]\n",
    "# print(F1,F2)\n",
    "\n",
    "tic = time.perf_counter()\n",
    "result = sp.groebner(F, order='lex')\n",
    "toc = time.perf_counter()\n",
    "print(f\"Finished calculating Gröbner Basis in: {toc-tic:0.6f} seconds\")\n",
    "print(result)\n",
    "times.append(toc-tic)"
   ]
  },
  {
   "cell_type": "markdown",
   "id": "fewer-slope",
   "metadata": {},
   "source": [
    "As we can see in the above example, the algorithm was quite fast in computing the Gröbner basis. Now let's change the number of variables in the input polynomial. This time we change our input polynomials to,\n",
    "$$ F_1 = t^2 + x^2 + y^2 + z^2 $$\n",
    "$$ F_2 = t^2 + 2x^2 - xy - z^2 $$\n",
    "$$ F_3 = t + y^3-z^3$$"
   ]
  },
  {
   "cell_type": "code",
   "execution_count": 72,
   "id": "professional-qualification",
   "metadata": {
    "scrolled": true
   },
   "outputs": [
    {
     "name": "stdout",
     "output_type": "stream",
     "text": [
      "Finished calculating Gröbner Basis in: 32.849230 seconds\n"
     ]
    }
   ],
   "source": [
    "F = [F1, F2, F3] = [t**2+ x**2 + y**2+ z**2,t**2 + 2*x**2 - x*y - z**2, t + y**3 - z**3]\n",
    "tic = time.perf_counter()\n",
    "result = sp.groebner(F, order='lex')\n",
    "toc = time.perf_counter()\n",
    "print(f\"Finished calculating Gröbner Basis in: {toc-tic:0.6f} seconds\")\n",
    "times.append(toc-tic)"
   ]
  },
  {
   "cell_type": "markdown",
   "id": "aggressive-quick",
   "metadata": {},
   "source": [
    "As we see on adding another variable the difference between the two compute times is staggering. This is due to the fact that number of variables have a doubly exponential effect on the complexity. This effect can be mitigated using a suitable ordering of the polynomials but the result is not always substantial. It is widely accepted that *graded reverse lexographical ordering* is the most efficient for Gröbner Basis calculations <a id=\"ref-4\" href=\"#cite-MACAULAY2\">(Macaulay Software Docs)</a>.   \n",
    "\n",
    "We will observe the effect of different ordering in a later section."
   ]
  },
  {
   "cell_type": "markdown",
   "id": "hungry-workshop",
   "metadata": {},
   "source": [
    "### Effect of degree of the polynomials\n",
    "---\n",
    "Using the same equation as eq.(1) we will increase the degree of the polynomial with each iteration and observe it's effect on the compute time of the Gröbner basis."
   ]
  },
  {
   "cell_type": "code",
   "execution_count": 73,
   "id": "brief-computer",
   "metadata": {},
   "outputs": [],
   "source": [
    "all_times = []\n",
    "all_deg = []\n",
    "times= []\n",
    "N = range(1,15,1)\n",
    "for n in N:\n",
    "    F = [F1, F2, F3] = [x**n + y**n + z**n, 2*x**n - x*y - z**n, y**(n+1) - z**(n+1)]\n",
    "    tic = time.perf_counter()\n",
    "    result = sp.groebner(F, order='lex')\n",
    "    toc = time.perf_counter()\n",
    "    times.append(toc-tic)\n",
    "all_times.append(times)\n",
    "all_deg.append(N)"
   ]
  },
  {
   "cell_type": "code",
   "execution_count": 74,
   "id": "conventional-outreach",
   "metadata": {},
   "outputs": [
    {
     "data": {
      "text/plain": [
       "Text(0.5, 1.0, 'Time vs Degree of polynomials')"
      ]
     },
     "execution_count": 74,
     "metadata": {},
     "output_type": "execute_result"
    },
    {
     "data": {
      "image/png": "[encoded data removed]",
      "text/plain": [
       "<Figure size 720x432 with 1 Axes>"
      ]
     },
     "metadata": {
      "needs_background": "light"
     },
     "output_type": "display_data"
    }
   ],
   "source": [
    "fig, ax = plt.subplots(ncols = 1, figsize = (10,6))\n",
    "ax.plot(N, times)\n",
    "ax.set_yticks(np.arange(0, max(times), 10))\n",
    "ax.set_xlabel(\"Degree of polynomials\")\n",
    "ax.set_ylabel(\"Time(seconds)\")\n",
    "ax.set_title(\"Time vs Degree of polynomials\")"
   ]
  },
  {
   "cell_type": "markdown",
   "id": "furnished-guarantee",
   "metadata": {},
   "source": [
    "As we can see from the plot, on increasing the degree of polynomials the time complexity doesn't vary initially but after a certain degree (the elbow on the above plot) it starts increasing exponentially. This elbow will of course be different for each polynomial input as we can observe from the plots below. The polynomial used in the code bloacks below are:\n",
    "\n",
    "\\begin{equation}\n",
    "\\alpha = [\\alpha_1,\\alpha_2] \\\\\n",
    "\\alpha_1 = y^n - 3xy^{n-1} + x^{n-2}y^{n-2} - 3x^{n-1}y + 5x^n + 3y^{n-1} + 2xy^{n-2} - 3x^{n-2}y - 4x^{n-1}, \\forall \\: n \\in \\mathbb{Z} \\\\ \n",
    "\\alpha_2 = y^n + 2xy^{n-1} - 3x^{n-2}y^{n-2} + 4x^{n-1}y - 3x^n - 5y^{n-1} - 3xy^{n-2} + 5x{n-2}y - 5x^{n-1}, \\forall \\: n \\in \\mathbb{Z} \\\\\n",
    "\\end{equation}\n",
    "\n",
    "\n",
    "\\begin{equation}\n",
    "\\beta = [\\beta_1, \\beta_2] \\\\\n",
    "\\beta_1 = 2x^n + 3y^{n-1}x + 4z^{n+1} - 5, \\forall \\: n \\in \\mathbb{Z} \\\\\n",
    "\\beta_2 = 3x^{n-1}y^n + 4y^2x^{n-2} + 5z^{n} - 2, \\forall \\: n \\in \\mathbb{Z} \\\\\n",
    "\\end{equation}\n",
    "\n",
    "\n",
    "\\begin{equation}\n",
    "\\gamma = [\\gamma_1, \\gamma_2, \\gamma_3] \\\\\n",
    "\\gamma_1 = (n+1)xyz + x + 1,\\forall \\: n \\in \\mathbb{Z} \\\\\n",
    "\\gamma_2 = xy^nz + 1,\\forall \\: n \\in \\mathbb{Z} \\\\\n",
    "\\gamma_3 = x^ny^n + z^n,\\forall \\: n \\in \\mathbb{Z} \\\\\n",
    "\\end{equation}\n"
   ]
  },
  {
   "cell_type": "code",
   "execution_count": 75,
   "id": "adopted-interference",
   "metadata": {},
   "outputs": [],
   "source": [
    "# A = y**4 - 3*x*y**3 +x**2*y**2 -3*x**3*y + 5*x**4 + 3*y**3 + 2*x*y**2 - 3*x**2*y - 4*x**3 \n",
    "# B = y**4 + 2*x*y**3 - 3*x**2*y**2 + 4*x**3*y - 3*x**4 - 5*y**3 - 3*x*y**2 + 5*x**2*y - 5*x**3\n",
    "# F_1 = [A,B]\n",
    "\n",
    "time2 = []\n",
    "N_1 = range(1,11,1)\n",
    "for n in N_1:\n",
    "    A = y**n - 3*x*y**(n-1) +x**(n-2)*y**(n-2) -3*x**(n-1)*y + 5*x**n + 3*y**(n-1) + 2*x*y**(n-2) - 3*x**(n-2)*y - 4*x**(n-1) \n",
    "    B = y**n + 2*x*y**(n-1) - 3*x**(n-2)*y**(n-2) + 4*x**(n-1)*y - 3*x**n - 5*y**(n-1) - 3*x*y**(n-2) + 5*x**(n-2)*y - 5*x**(n-1)\n",
    "    F_1 = [A,B]\n",
    "    tic = time.perf_counter()\n",
    "    result = sp.groebner(F_1, order='lex')\n",
    "    toc = time.perf_counter()\n",
    "    time2.append(toc-tic)\n",
    "all_times.append(time2)\n",
    "all_deg.append(N_1)"
   ]
  },
  {
   "cell_type": "code",
   "execution_count": 76,
   "id": "domestic-custody",
   "metadata": {},
   "outputs": [],
   "source": [
    "# A = 2*x**n + 3*y**(n-1)*x + 4*z**(n+1) - 5\n",
    "# B = 3*x**(n-1)*y**n + 4*y**2*x**(n-2) + 5*z**(n) - 2\n",
    "time3 = []\n",
    "N_2 = range(1,4,1)\n",
    "for n in N_2:\n",
    "    A = 2*x**n + 3*y**(n-1)*x + 4*z**(n+1) - 5\n",
    "    B = 3*x**(n-1)*y**n + 4*y**2*x**(n-2) + 5*z**(n) - 2\n",
    "    F_2 = [A,B]\n",
    "    tic = time.perf_counter()\n",
    "    result = sp.groebner(F_2, order = 'lex')\n",
    "    toc = time.perf_counter()\n",
    "    time3.append(toc-tic)\n",
    "    \n",
    "all_times.append(time3)\n",
    "all_deg.append(N_2)"
   ]
  },
  {
   "cell_type": "code",
   "execution_count": 101,
   "id": "loaded-exemption",
   "metadata": {},
   "outputs": [],
   "source": [
    "time4 = []\n",
    "N_3 = range(1,8,1)\n",
    "for n in N_3:\n",
    "    A = x*(n+1)*y*z + x + 1\n",
    "    B = x*y**n*z + 1\n",
    "    C = x**n*y**n + z**n\n",
    "    F_3 = [A,B,C]\n",
    "    tic = time.perf_counter()\n",
    "    result = sp.groebner(F_3, order = 'lex')\n",
    "    toc = time.perf_counter()\n",
    "    time4.append(toc-tic)\n",
    "\n",
    "# all_times.pop()\n",
    "# all_times.append(time4)\n",
    "# all_deg.pop()\n",
    "# all_deg.append(N_3)"
   ]
  },
  {
   "cell_type": "code",
   "execution_count": 93,
   "id": "velvet-benchmark",
   "metadata": {},
   "outputs": [
    {
     "data": {
      "image/png": "[encoded data removed]",
      "text/plain": [
       "<Figure size 864x576 with 4 Axes>"
      ]
     },
     "metadata": {
      "needs_background": "light"
     },
     "output_type": "display_data"
    }
   ],
   "source": [
    "fig, axs = plt.subplots(ncols = 2, nrows = 2, figsize = (12,8))\n",
    "fig.tight_layout(h_pad = 3,w_pad = 3)\n",
    "color = iter(plt.cm.rainbow(np.linspace(0,1,len(all_deg))))\n",
    "\n",
    "for i, (tm, rnge, ax) in enumerate(zip(all_times, all_deg, axs.flat)):\n",
    "    c = next(color)\n",
    "    ax.plot(rnge, tm, c=c, label = \"Polynomial eq.\" + str(i+2))\n",
    "    ax.set_ylabel(\"Time(seconds)\")\n",
    "    ax.set_xlabel(\"Degree of polynomial\")\n",
    "    ax.set_xticks(np.arange(0, max(rnge)+1, 1))\n",
    "    ax.legend(loc = \"upper left\")"
   ]
  },
  {
   "cell_type": "markdown",
   "id": "certain-prayer",
   "metadata": {},
   "source": [
    "### Sensitivity to the ordering of monomials\n",
    "The monomial order for the input polynomials has a profound effect on the time and computation complexity of a Gröbner basis. Let's first understand the different monomial orderings. There are three widely accepted monomial ordering systems which are extensively used in the computational algebra. For understanding them we will consider a polynomial $X$, consisting of $n$ number of variables such that $X = \\{x_1,x_2, \\cdots,x_n\\}$ with power of each variables belonging to the ring of integers, $\\mathbb{Z}$. \n",
    "\n",
    "* **Lexicographical Ordering:**  Lexicographic order (lex) first compares exponents of x1 in the monomials, and in case of equality compares exponents of x2, and so forth.\n",
    "\n",
    "* **Graded Lexicographical Ordering:** Graded lexicographic order (grlex, or deglex for degree lexicographic order) first compares the total degree (sum of all exponents), and in case of a tie applies lexicographic order.\n",
    "\n",
    "* **Graded Reverse Lexicographical Ordering:** Graded reverse lexicographic order (grevlex, or degrevlex for degree reverse lexicographic order) compares the total degree first, then uses a reverse lexicographic order as tie-breaker, but it reverses the outcome of the lexicographic comparison so that lexicographically larger monomials of the same degree are considered to be degrevlex smaller.\n",
    "A concrete recipe for the graded reverse lexicographic order is thus to compare by the total degree first, then compare exponents of the last indeterminate xn but reversing the outcome (so the monomial with smaller exponent is larger in the ordering), followed (as always only in case of a tie) by a similar comparison of xn−1, and so forth ending with x1. \n",
    "\n",
    "Now, we will observe the effect of these different ordering on the Gröbner basis solution for the eq(1)."
   ]
  },
  {
   "cell_type": "code",
   "execution_count": null,
   "id": "structured-constraint",
   "metadata": {},
   "outputs": [],
   "source": []
  },
  {
   "cell_type": "markdown",
   "id": "theoretical-dialogue",
   "metadata": {},
   "source": [
    "## Approximations used in Buchberger algorithm"
   ]
  },
  {
   "cell_type": "markdown",
   "id": "particular-knight",
   "metadata": {},
   "source": [
    "## Faugère F4 and F5 algorithm"
   ]
  },
  {
   "cell_type": "markdown",
   "id": "rational-investigation",
   "metadata": {},
   "source": [
    "## Applications"
   ]
  },
  {
   "cell_type": "markdown",
   "id": "hindu-buddy",
   "metadata": {},
   "source": [
    "# References\n",
    "\n",
    "<a id=\"cite-DUBE_1990\"/><sup><a href=#ref-1>[^]</a></sup>Dubé, Thomas W.. 1990. _The Structure of Polynomial Ideals and Gröbner Bases_. [URL](https://doi.org/10.1137/0219053)\n",
    "\n",
    "<a id=\"cite-MAYR_1982\"/><sup><a href=#ref-2>[^]</a></sup>Ernst W Mayr and Albert R Meyer. 1982. _The complexity of the word problems for commutative semigroups and polynomial ideals_. [URL](https://www.sciencedirect.com/science/article/pii/0001870882900482)\n",
    "\n",
    "<a id=\"cite-BUCHBERGER_THESIS\"/><sup><a href=#ref-3>[^]</a></sup>Bruno Buchberger. 2006. _Bruno Buchberger’s PhD thesis 1965: An algorithm for finding the basis elements of the residue class ring of a zero dimensional polynomial ideal_. [URL](https://www.sciencedirect.com/science/article/pii/S0747717105001483)\n",
    "\n",
    "<a id=\"cite-MACAULAY2\"/><sup><a href=#ref-4>[^]</a></sup>Grayson, Daniel R. and Stillman, Michael E.. undefined. _Macaulay2, a software system for research in algebraic geometry_.\n",
    "\n"
   ]
  },
  {
   "cell_type": "code",
   "execution_count": null,
   "id": "annoying-rugby",
   "metadata": {},
   "outputs": [],
   "source": [
    "def buchberger(F, reduced = True):\n",
    "    '''\n",
    "    A naïve buchberger algorithm. Doesn't optimize by eliminating unrequired terms or divisive reductions.\n",
    "    '''\n",
    "    G, pairs = F, []\n",
    "    \n",
    "    for i, f1 in enumerate(G):\n",
    "        for f2 in G[i+1:]:\n",
    "            pairs.append((f1, f2))\n",
    "            \n",
    "    while pairs:\n",
    "        \n",
    "        f1, f2 = pairs.pop(0)\n",
    "        print(\"The s-polynomial is being calculated for {} and {}\".format(f1, f2))\n",
    "        \n",
    "        s = s_polynomial(f1, f2)\n",
    "        print(\"The s-polynomial calculated is : \", s)\n",
    "        \n",
    "        _, h = sp.reduced(s, G)\n",
    "        print(\"The h calculated is: \", h)\n",
    "        \n",
    "        if h != 0:\n",
    "            for g in G:\n",
    "                pairs.append((g, h))\n",
    "                print(\"The g being added is: \", (g,h))\n",
    "            G.append(g)\n",
    "    \n",
    "    if reduced:\n",
    "        for i, g in enumerate(G):\n",
    "            _, G[i] = sp.reduced(g, G[:i] + G[i+1:])\n",
    "\n",
    "        G = map(monic, G)\n",
    "\n",
    "    return G"
   ]
  },
  {
   "cell_type": "code",
   "execution_count": null,
   "id": "elementary-usage",
   "metadata": {},
   "outputs": [],
   "source": [
    "\n",
    "def s_polynomial(f, g):\n",
    "    '''\n",
    "    Function for calculating the s-polynomial of two polynomials (univariate or multivariate).\n",
    "    '''\n",
    "    return sp.expand(sp.lcm(sp.LM(f), sp.LM(g))*(1/sp.LT(f) * f- 1/sp.LT(g)*g))"
   ]
  },
  {
   "cell_type": "markdown",
   "id": "macro-vegetarian",
   "metadata": {},
   "source": [
    "---"
   ]
  },
  {
   "cell_type": "markdown",
   "id": "suitable-luther",
   "metadata": {},
   "source": [
    "<!--bibtex\n",
    "\n",
    "@article{DUBE_1990,\n",
    "author = {Dubé, Thomas W.},\n",
    "title = {The Structure of Polynomial Ideals and Gröbner Bases},\n",
    "journal = {SIAM Journal on Computing},\n",
    "volume = {19},\n",
    "number = {4},\n",
    "pages = {750-773},\n",
    "year = {1990},\n",
    "doi = {10.1137/0219053},\n",
    "\n",
    "URL = \"https://doi.org/10.1137/0219053\",\n",
    "eprint = { \n",
    "        https://doi.org/10.1137/0219053\n",
    "    \n",
    "}\n",
    "\n",
    "}\n",
    "\n",
    "@article{MAYR_1982,\n",
    "title = {The complexity of the word problems for commutative semigroups and polynomial ideals},\n",
    "journal = {Advances in Mathematics},\n",
    "volume = {46},\n",
    "number = {3},\n",
    "pages = {305-329},\n",
    "year = {1982},\n",
    "issn = {0001-8708},\n",
    "doi = {https://doi.org/10.1016/0001-8708(82)90048-2},\n",
    "url = {https://www.sciencedirect.com/science/article/pii/0001870882900482},\n",
    "author = {Ernst W Mayr and Albert R Meyer},\n",
    "abstract = {Any decision procedure for the word problems for commutative semigroups and polynomial deals inherently requires computational storage space growing exponentially with the size of the problem instance to which the procedure is applied. This bound is achieved by a simple procedure for the semigroup problem.}\n",
    "}\n",
    "\n",
    "@article{BUCHBERGER_THESIS,\n",
    "title = {Bruno Buchberger’s PhD thesis 1965: An algorithm for finding the basis elements of the residue class ring of a zero dimensional polynomial ideal},\n",
    "journal = {Journal of Symbolic Computation},\n",
    "volume = {41},\n",
    "number = {3},\n",
    "pages = {475-511},\n",
    "year = {2006},\n",
    "note = {Logic, Mathematics and Computer Science: Interactions in honor of Bruno Buchberger (60th birthday)},\n",
    "issn = {0747-7171},\n",
    "doi = {https://doi.org/10.1016/j.jsc.2005.09.007},\n",
    "url = {https://www.sciencedirect.com/science/article/pii/S0747717105001483},\n",
    "author = {Bruno Buchberger},\n",
    "abstract = {This is the English translation (by Michael P. Abramson) of the PhD thesis of Bruno Buchberger, in which he introduced the algorithmic theory of Gröbner bases. Some comments by Buchberger on the translation and the thesis are given in an additional short paper in this issue of the Journal of Symbolic Computation.}\n",
    "}\n",
    "\n",
    "@Misc{MACAULAY2,\n",
    "author = {Grayson, Daniel R. and Stillman, Michael E.},\n",
    "title = {Macaulay2, a software system for research in algebraic geometry},\n",
    "howpublished = {Available at \\url{https://math.uiuc.edu/Macaulay2/}}\n",
    "}\n",
    "-->"
   ]
  },
  {
   "cell_type": "markdown",
   "id": "antique-spyware",
   "metadata": {},
   "source": [
    "---"
   ]
  }
 ],
 "metadata": {
  "kernelspec": {
   "display_name": "Python (WSU)",
   "language": "python",
   "name": "wsu"
  },
  "language_info": {
   "codemirror_mode": {
    "name": "ipython",
    "version": 3
   },
   "file_extension": ".py",
   "mimetype": "text/x-python",
   "name": "python",
   "nbconvert_exporter": "python",
   "pygments_lexer": "ipython3",
   "version": "3.8.8"
  },
  "latex_envs": {
   "LaTeX_envs_menu_present": true,
   "autoclose": false,
   "autocomplete": true,
   "bibliofile": "biblio.bib",
   "cite_by": "apalike",
   "current_citInitial": 1,
   "eqLabelWithNumbers": true,
   "eqNumInitial": 1,
   "hotkeys": {
    "equation": "Ctrl-E",
    "itemize": "Ctrl-I"
   },
   "labels_anchors": false,
   "latex_user_defs": false,
   "report_style_numbering": false,
   "user_envs_cfg": false
  },
  "toc": {
   "base_numbering": 1,
   "nav_menu": {},
   "number_sections": true,
   "sideBar": true,
   "skip_h1_title": false,
   "title_cell": "Table of Contents",
   "title_sidebar": "Contents",
   "toc_cell": false,
   "toc_position": {},
   "toc_section_display": true,
   "toc_window_display": false
  }
 },
 "nbformat": 4,
 "nbformat_minor": 5
}
