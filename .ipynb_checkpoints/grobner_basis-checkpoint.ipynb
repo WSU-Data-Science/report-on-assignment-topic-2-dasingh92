{
 "cells": [
  {
   "cell_type": "markdown",
   "id": "fixed-generation",
   "metadata": {},
   "source": [
    "# Buchberger algorithm for Gröbner basis - An analysis of it's implementations, complexity and applications"
   ]
  },
  {
   "cell_type": "markdown",
   "id": "younger-banks",
   "metadata": {},
   "source": [
    "## Complexity of a Gröbner basis calculation using Buchberger algorithm"
   ]
  },
  {
   "cell_type": "markdown",
   "id": "soviet-monitoring",
   "metadata": {},
   "source": [
    "The estimation of computational complexity of the Buchberger algorithm is not a trivial task because the number of choices may drastically change which directly affects the computation time. These choices may depend on the number of variables and within a given number of variables on the ordering of the leading terms. Hence, we resort to finding an upper bound on the degree of the generated Gröbner Basis, $G$.\n",
    "\n",
    "It has been <a id=\"ref-1\" href=\"#cite-DUBE_1990\">(Dubé,1990)</a> proved that the degree of all polynomials in $G$ of an input polynomial $B$ are bounded by doubly exponential in the number of variables but polynomial in terms of degree. , i.e.,\n",
    "\n",
    "\\begin{equation}\n",
    "2{\\bigg ( \\frac{d^2}{2} + d \\bigg)}^{2^{n-2}}\n",
    "\\end{equation}\n",
    "\n",
    "where $d$ is the maximal total degree of the input polynomials and $n$ is the number of variables. This allows us to theoretically, use *linear algebra* over the *vector spaces* of the polynomials of degree bounded by this value, to obtain an algorithmic complexity, $d^{2^{n + o(1)}}$.\n",
    "\n",
    "On the other hand it has been shown by <a id=\"ref-2\" href=\"#cite-MAYR_1982\">(Mayr and Meyer, 1982)</a> that some examples Gröbner Basis contain elements of the degree, \n",
    "\n",
    "$$ d^{2^{\\Omega(n)}}$$ \n",
    "\n",
    "The above mentioned complexity is optimal, although quite rare. \n",
    "\n",
    "These estimates on the size of the output directly imply estimates on the memory requirements and the runtime of the Buchberger algorithm. Although they only describe the complexity of the problem rather than the complexity of a particular algorithm, in the sense that no other (hypothetical) algorithm for computing Gröbner bases can possibly be faster in the worst case.\n",
    "\n",
    "Despite these unavoidable worst case behaviour, in most cases of practical relevance it is possible to obtain Gröbner bases in a reasonable time. The algorithm tends to perform far more efficiently on input coming from applications than in the worst case.\n",
    "\n",
    "Since Buchberger algorithm was first introduced <a id=\"ref-3\" href=\"#cite-BUCHBERGER_THESIS\">(Buchberger, 1965)</a> it has been improved for better efficiency and the latest variants [Faugère's F4] and [Faugère's F5 Algorithms]  are currently the most efficient in calculating Gröbner Basis and allow to compute routinely Gröbner bases consisting of several hundreds of polynomials, having each several hundreds of terms and coefficients of several hundreds of digits. "
   ]
  },
  {
   "cell_type": "markdown",
   "id": "brave-tomato",
   "metadata": {},
   "source": [
    "## Sensitivity of Buchberger algorithm"
   ]
  },
  {
   "cell_type": "markdown",
   "id": "demographic-audio",
   "metadata": {},
   "source": [
    "The Buchberger algorithm shows sensitivity to the following factors while generating a Gröbner Basis for a given polynomial:\n",
    "* The number of variables,\n",
    "* The degrees of the polynomial,\n",
    "* Ordering of the input polynomial, and\n",
    "* The size of the coefficients of the polynomial.\n",
    "\n",
    "In this section, we will show programmatically the sensitivity of Buchberger algorithm to each of the abovesaid factors and see how the algorithm reacts to changes for each given factor.\n",
    "\n",
    "### Sensitivity to number of variables\n"
   ]
  },
  {
   "cell_type": "code",
   "execution_count": 42,
   "id": "palestinian-stone",
   "metadata": {},
   "outputs": [],
   "source": [
    "import sympy as sp\n",
    "import numpy as np\n",
    "import matplotlib.pyplot as plt\n",
    "from sympy.abc import x,y,z,a,b,c,p,q,r,t\n",
    "import time"
   ]
  },
  {
   "cell_type": "code",
   "execution_count": 55,
   "id": "detailed-homework",
   "metadata": {},
   "outputs": [
    {
     "name": "stdout",
     "output_type": "stream",
     "text": [
      "Finished calculating Gröbner Basis in: 0.008274 seconds\n",
      "GroebnerBasis([x**2 + y**2 + z**2, x*y + 2*y**2 + 3*z**2, 3*x*z**2 - 7*y*z**2 - 5*z**3, y**3 - z**3, 31*y**2*z**2 + 23*z**4, 31*y*z**3 - 4*z**4, z**5], x, y, z, domain='ZZ', order='lex')\n"
     ]
    }
   ],
   "source": [
    "# F3 = x**3*y**3 - 3*x**2*y\n",
    "# [x**3*z - 2*x*y*z**2, x**2*y*z**3 - 2*y**2*z + x, x**3*y**3*z**3 - 3*x**2*y*5*z]\n",
    "# [x**3 - 2*x*y, x**2*y - 2*y**2 + x]\n",
    "# [t**2+ x**2 + y**2+ z**2,t**2 + 2*x**2 - x*y - z**2, t + y**3 - z**3]\n",
    "variables = [x,y,z,a,b,c,p,q,r,t]\n",
    "times = []\n",
    "\n",
    "F = [F1, F2, F3] = [x**2 + y**2+ z**2, 2*x**2 - x*y - z**2, y**3 - z**3]\n",
    "# print(F1,F2)\n",
    "\n",
    "tic = time.perf_counter()\n",
    "result = sp.groebner(F, order='lex')\n",
    "toc = time.perf_counter()\n",
    "print(f\"Finished calculating Gröbner Basis in: {toc-tic:0.6f} seconds\")\n",
    "print(result)\n",
    "times.append(toc-tic)"
   ]
  },
  {
   "cell_type": "markdown",
   "id": "fewer-slope",
   "metadata": {},
   "source": [
    "AS we can see in the above example, the algorithm was quite fast in computing the Gröbner basis. Now let's change the number of variables in the input polynomial. "
   ]
  },
  {
   "cell_type": "code",
   "execution_count": 58,
   "id": "professional-qualification",
   "metadata": {},
   "outputs": [
    {
     "name": "stdout",
     "output_type": "stream",
     "text": [
      "Finished calculating Gröbner Basis in: 33.270234 seconds\n"
     ]
    }
   ],
   "source": [
    "F = [F1, F2, F3] = [t**2+ x**2 + y**2+ z**2,t**2 + 2*x**2 - x*y - z**2, t + y**3 - z**3]\n",
    "tic = time.perf_counter()\n",
    "result = sp.groebner(F, order='lex')\n",
    "toc = time.perf_counter()\n",
    "print(f\"Finished calculating Gröbner Basis in: {toc-tic:0.6f} seconds\")\n",
    "times.append(toc-tic)"
   ]
  },
  {
   "cell_type": "markdown",
   "id": "aggressive-quick",
   "metadata": {},
   "source": [
    "As we see on adding another variable the difference between the two compute times is staggering. This is due to the fact that number of variables have a doubly exponential effect on the complexity. This effect can be mitigated using a suitable ordering of the polynomials but the result is not always substantial. It is widely accepted that *graded reverse lexographical ordering* is the most efficient for Gröbner Basis calculations <a id=\"ref-4\" href=\"#cite-MACAULAY2\">(Macaulay Software Docs)</a>.   \n",
    "\n",
    "We will observe the effect of different ordering in a later section."
   ]
  },
  {
   "cell_type": "markdown",
   "id": "hungry-workshop",
   "metadata": {},
   "source": [
    "### Effect of degree of the polynomials\n"
   ]
  },
  {
   "cell_type": "code",
   "execution_count": 69,
   "id": "brief-computer",
   "metadata": {},
   "outputs": [],
   "source": [
    "times= []\n",
    "N = range(1,15,1)\n",
    "for n in N:\n",
    "    F = [F1, F2, F3] = [x**n + y**n + z**n, 2*x**n - x*y - z**n, y**(n+1) - z**(n+1)]\n",
    "    tic = time.perf_counter()\n",
    "    result = sp.groebner(F, order='lex')\n",
    "    toc = time.perf_counter()\n",
    "    times.append(toc-tic)"
   ]
  },
  {
   "cell_type": "code",
   "execution_count": 70,
   "id": "conventional-outreach",
   "metadata": {},
   "outputs": [
    {
     "data": {
      "text/plain": [
       "[<matplotlib.lines.Line2D at 0x7f9e11e4c8e0>]"
      ]
     },
     "execution_count": 70,
     "metadata": {},
     "output_type": "execute_result"
    },
    {
     "data": {
      "image/png": "[encoded data removed]",
      "text/plain": [
       "<Figure size 432x288 with 1 Axes>"
      ]
     },
     "metadata": {
      "needs_background": "light"
     },
     "output_type": "display_data"
    }
   ],
   "source": [
    "plt.plot(N, times)"
   ]
  },
  {
   "cell_type": "markdown",
   "id": "furnished-guarantee",
   "metadata": {},
   "source": []
  },
  {
   "cell_type": "markdown",
   "id": "theoretical-dialogue",
   "metadata": {},
   "source": [
    "## Approximations used in Buchberger algorithm"
   ]
  },
  {
   "cell_type": "markdown",
   "id": "particular-knight",
   "metadata": {},
   "source": [
    "## Faugère F4 and F5 algorithm"
   ]
  },
  {
   "cell_type": "markdown",
   "id": "rational-investigation",
   "metadata": {},
   "source": [
    "## Applications"
   ]
  },
  {
   "cell_type": "markdown",
   "id": "hindu-buddy",
   "metadata": {},
   "source": [
    "# References\n",
    "\n",
    "<a id=\"cite-DUBE_1990\"/><sup><a href=#ref-1>[^]</a></sup>Dubé, Thomas W.. 1990. _The Structure of Polynomial Ideals and Gröbner Bases_. [URL](https://doi.org/10.1137/0219053)\n",
    "\n",
    "<a id=\"cite-MAYR_1982\"/><sup><a href=#ref-2>[^]</a></sup>Ernst W Mayr and Albert R Meyer. 1982. _The complexity of the word problems for commutative semigroups and polynomial ideals_. [URL](https://www.sciencedirect.com/science/article/pii/0001870882900482)\n",
    "\n",
    "<a id=\"cite-BUCHBERGER_THESIS\"/><sup><a href=#ref-3>[^]</a></sup>Bruno Buchberger. 2006. _Bruno Buchberger’s PhD thesis 1965: An algorithm for finding the basis elements of the residue class ring of a zero dimensional polynomial ideal_. [URL](https://www.sciencedirect.com/science/article/pii/S0747717105001483)\n",
    "\n",
    "<a id=\"cite-MACAULAY2\"/><sup><a href=#ref-4>[^]</a></sup>Grayson, Daniel R. and Stillman, Michael E.. undefined. _Macaulay2, a software system for research in algebraic geometry_.\n",
    "\n"
   ]
  },
  {
   "cell_type": "code",
   "execution_count": null,
   "id": "annoying-rugby",
   "metadata": {},
   "outputs": [],
   "source": [
    "def buchberger(F, reduced = True):\n",
    "    '''\n",
    "    A naïve buchberger algorithm. Doesn't optimize by eliminating unrequired terms or divisive reductions.\n",
    "    '''\n",
    "    G, pairs = F, []\n",
    "    \n",
    "    for i, f1 in enumerate(G):\n",
    "        for f2 in G[i+1:]:\n",
    "            pairs.append((f1, f2))\n",
    "            \n",
    "    while pairs:\n",
    "        \n",
    "        f1, f2 = pairs.pop(0)\n",
    "        print(\"The s-polynomial is being calculated for {} and {}\".format(f1, f2))\n",
    "        \n",
    "        s = s_polynomial(f1, f2)\n",
    "        print(\"The s-polynomial calculated is : \", s)\n",
    "        \n",
    "        _, h = sp.reduced(s, G)\n",
    "        print(\"The h calculated is: \", h)\n",
    "        \n",
    "        if h != 0:\n",
    "            for g in G:\n",
    "                pairs.append((g, h))\n",
    "                print(\"The g being added is: \", (g,h))\n",
    "            G.append(g)\n",
    "    \n",
    "    if reduced:\n",
    "        for i, g in enumerate(G):\n",
    "            _, G[i] = sp.reduced(g, G[:i] + G[i+1:])\n",
    "\n",
    "        G = map(monic, G)\n",
    "\n",
    "    return G"
   ]
  },
  {
   "cell_type": "code",
   "execution_count": 1,
   "id": "elementary-usage",
   "metadata": {},
   "outputs": [],
   "source": [
    "\n",
    "def s_polynomial(f, g):\n",
    "    '''\n",
    "    Function for calculating the s-polynomial of two polynomials (univariate or multivariate).\n",
    "    '''\n",
    "    return sp.expand(sp.lcm(sp.LM(f), sp.LM(g))*(1/sp.LT(f) * f- 1/sp.LT(g)*g))"
   ]
  },
  {
   "cell_type": "markdown",
   "id": "macro-vegetarian",
   "metadata": {},
   "source": [
    "---"
   ]
  },
  {
   "cell_type": "markdown",
   "id": "suitable-luther",
   "metadata": {},
   "source": [
    "<!--bibtex\n",
    "\n",
    "@article{DUBE_1990,\n",
    "author = {Dubé, Thomas W.},\n",
    "title = {The Structure of Polynomial Ideals and Gröbner Bases},\n",
    "journal = {SIAM Journal on Computing},\n",
    "volume = {19},\n",
    "number = {4},\n",
    "pages = {750-773},\n",
    "year = {1990},\n",
    "doi = {10.1137/0219053},\n",
    "\n",
    "URL = \"https://doi.org/10.1137/0219053\",\n",
    "eprint = { \n",
    "        https://doi.org/10.1137/0219053\n",
    "    \n",
    "}\n",
    "\n",
    "}\n",
    "\n",
    "@article{MAYR_1982,\n",
    "title = {The complexity of the word problems for commutative semigroups and polynomial ideals},\n",
    "journal = {Advances in Mathematics},\n",
    "volume = {46},\n",
    "number = {3},\n",
    "pages = {305-329},\n",
    "year = {1982},\n",
    "issn = {0001-8708},\n",
    "doi = {https://doi.org/10.1016/0001-8708(82)90048-2},\n",
    "url = {https://www.sciencedirect.com/science/article/pii/0001870882900482},\n",
    "author = {Ernst W Mayr and Albert R Meyer},\n",
    "abstract = {Any decision procedure for the word problems for commutative semigroups and polynomial deals inherently requires computational storage space growing exponentially with the size of the problem instance to which the procedure is applied. This bound is achieved by a simple procedure for the semigroup problem.}\n",
    "}\n",
    "\n",
    "@article{BUCHBERGER_THESIS,\n",
    "title = {Bruno Buchberger’s PhD thesis 1965: An algorithm for finding the basis elements of the residue class ring of a zero dimensional polynomial ideal},\n",
    "journal = {Journal of Symbolic Computation},\n",
    "volume = {41},\n",
    "number = {3},\n",
    "pages = {475-511},\n",
    "year = {2006},\n",
    "note = {Logic, Mathematics and Computer Science: Interactions in honor of Bruno Buchberger (60th birthday)},\n",
    "issn = {0747-7171},\n",
    "doi = {https://doi.org/10.1016/j.jsc.2005.09.007},\n",
    "url = {https://www.sciencedirect.com/science/article/pii/S0747717105001483},\n",
    "author = {Bruno Buchberger},\n",
    "abstract = {This is the English translation (by Michael P. Abramson) of the PhD thesis of Bruno Buchberger, in which he introduced the algorithmic theory of Gröbner bases. Some comments by Buchberger on the translation and the thesis are given in an additional short paper in this issue of the Journal of Symbolic Computation.}\n",
    "}\n",
    "\n",
    "@Misc{MACAULAY2,\n",
    "author = {Grayson, Daniel R. and Stillman, Michael E.},\n",
    "title = {Macaulay2, a software system for research in algebraic geometry},\n",
    "howpublished = {Available at \\url{https://math.uiuc.edu/Macaulay2/}}\n",
    "}\n",
    "-->"
   ]
  },
  {
   "cell_type": "markdown",
   "id": "antique-spyware",
   "metadata": {},
   "source": [
    "---"
   ]
  }
 ],
 "metadata": {
  "kernelspec": {
   "display_name": "Python (WSU)",
   "language": "python",
   "name": "wsu"
  },
  "language_info": {
   "codemirror_mode": {
    "name": "ipython",
    "version": 3
   },
   "file_extension": ".py",
   "mimetype": "text/x-python",
   "name": "python",
   "nbconvert_exporter": "python",
   "pygments_lexer": "ipython3",
   "version": "3.8.8"
  },
  "latex_envs": {
   "LaTeX_envs_menu_present": true,
   "autoclose": false,
   "autocomplete": true,
   "bibliofile": "biblio.bib",
   "cite_by": "apalike",
   "current_citInitial": 1,
   "eqLabelWithNumbers": true,
   "eqNumInitial": 1,
   "hotkeys": {
    "equation": "Ctrl-E",
    "itemize": "Ctrl-I"
   },
   "labels_anchors": false,
   "latex_user_defs": false,
   "report_style_numbering": false,
   "user_envs_cfg": false
  },
  "toc": {
   "base_numbering": 1,
   "nav_menu": {},
   "number_sections": true,
   "sideBar": true,
   "skip_h1_title": false,
   "title_cell": "Table of Contents",
   "title_sidebar": "Contents",
   "toc_cell": false,
   "toc_position": {},
   "toc_section_display": true,
   "toc_window_display": false
  }
 },
 "nbformat": 4,
 "nbformat_minor": 5
}
